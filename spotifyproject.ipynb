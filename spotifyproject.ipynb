{
  "nbformat": 4,
  "nbformat_minor": 0,
  "metadata": {
    "colab": {
      "provenance": [],
      "toc_visible": true,
      "authorship_tag": "ABX9TyOSssP9iz8uzbGmnw8zvdeF",
      "include_colab_link": true
    },
    "kernelspec": {
      "name": "python3",
      "display_name": "Python 3"
    },
    "language_info": {
      "name": "python"
    }
  },
  "cells": [
    {
      "cell_type": "markdown",
      "metadata": {
        "id": "view-in-github",
        "colab_type": "text"
      },
      "source": [
        "<a href=\"https://colab.research.google.com/github/aljoharas/datascience/blob/main/spotifyproject.ipynb\" target=\"_parent\"><img src=\"https://colab.research.google.com/assets/colab-badge.svg\" alt=\"Open In Colab\"/></a>"
      ]
    },
    {
      "cell_type": "markdown",
      "source": [
        "# DATA"
      ],
      "metadata": {
        "id": "GO9r-bKEVrYU"
      }
    },
    {
      "cell_type": "code",
      "execution_count": null,
      "metadata": {
        "colab": {
          "base_uri": "https://localhost:8080/"
        },
        "id": "norwVkh72C8K",
        "outputId": "a08ff532-5148-4bfb-b754-015a3ca82179"
      },
      "outputs": [
        {
          "output_type": "stream",
          "name": "stdout",
          "text": [
            "Collecting spotipy\n",
            "  Downloading spotipy-2.25.1-py3-none-any.whl.metadata (5.1 kB)\n",
            "Collecting redis>=3.5.3 (from spotipy)\n",
            "  Downloading redis-6.4.0-py3-none-any.whl.metadata (10 kB)\n",
            "Requirement already satisfied: requests>=2.25.0 in /usr/local/lib/python3.12/dist-packages (from spotipy) (2.32.4)\n",
            "Requirement already satisfied: urllib3>=1.26.0 in /usr/local/lib/python3.12/dist-packages (from spotipy) (2.5.0)\n",
            "Requirement already satisfied: charset_normalizer<4,>=2 in /usr/local/lib/python3.12/dist-packages (from requests>=2.25.0->spotipy) (3.4.3)\n",
            "Requirement already satisfied: idna<4,>=2.5 in /usr/local/lib/python3.12/dist-packages (from requests>=2.25.0->spotipy) (3.10)\n",
            "Requirement already satisfied: certifi>=2017.4.17 in /usr/local/lib/python3.12/dist-packages (from requests>=2.25.0->spotipy) (2025.8.3)\n",
            "Downloading spotipy-2.25.1-py3-none-any.whl (31 kB)\n",
            "Downloading redis-6.4.0-py3-none-any.whl (279 kB)\n",
            "\u001b[2K   \u001b[90m━━━━━━━━━━━━━━━━━━━━━━━━━━━━━━━━━━━━━━━━\u001b[0m \u001b[32m279.8/279.8 kB\u001b[0m \u001b[31m7.5 MB/s\u001b[0m eta \u001b[36m0:00:00\u001b[0m\n",
            "\u001b[?25hInstalling collected packages: redis, spotipy\n",
            "Successfully installed redis-6.4.0 spotipy-2.25.1\n"
          ]
        }
      ],
      "source": [
        "!pip install spotipy\n"
      ]
    },
    {
      "cell_type": "code",
      "source": [
        "import spotipy\n",
        "from spotipy.oauth2 import SpotifyClientCredentials\n",
        "from spotipy.oauth2 import SpotifyOAuth\n",
        "\n",
        "CLIENT_ID = \"091a90ce07be44b2b4bb6f6fcf08fd31\" #from our developer spotify acc\n",
        "CLIENT_SECRET = \"3333569ba9d44fc48d0b4d1e422db526\"  #from our developer spotify acc\n",
        "\n",
        "\n",
        "auth_manager = SpotifyClientCredentials(client_id=CLIENT_ID, client_secret=CLIENT_SECRET)\n",
        "sp = spotipy.Spotify(auth_manager=auth_manager)\n"
      ],
      "metadata": {
        "id": "Tvjx6cA54wQU"
      },
      "execution_count": null,
      "outputs": []
    },
    {
      "cell_type": "code",
      "source": [
        "import pandas as pd\n",
        "import matplotlib.pyplot as plt\n",
        "import seaborn as sns\n",
        "from tqdm.notebook import tqdm\n"
      ],
      "metadata": {
        "id": "5lOgm40C1NJT"
      },
      "execution_count": null,
      "outputs": []
    },
    {
      "cell_type": "code",
      "source": [
        "import pandas as pd\n",
        "\n",
        "url = \"/content/regional-global-weekly-2025-09-18.csv\"\n",
        "df = pd.read_csv(url)\n",
        "\n",
        "\n",
        "print(df.head())\n",
        "\n",
        "artists = df['artist_names'].unique()\n",
        "print(f\"✅ Found {len(artists)} unique artists\")\n"
      ],
      "metadata": {
        "colab": {
          "base_uri": "https://localhost:8080/"
        },
        "id": "4zc8Po2yRzcS",
        "outputId": "8e3291c9-e502-4ee9-ae3d-990edbc08615"
      },
      "execution_count": null,
      "outputs": [
        {
          "output_type": "stream",
          "name": "stdout",
          "text": [
            "   rank                                   uri  \\\n",
            "0     1  spotify:track:1CPZ5BxNNd0n0nF4Orb9JS   \n",
            "1     2  spotify:track:7qjZnBKE73H4Oxkopwulqe   \n",
            "2     3  spotify:track:2RkZ5LkEzeHGRsmDqKwmaJ   \n",
            "3     4  spotify:track:02sy7FAs8dkDNYsHp4Ul3f   \n",
            "4     5  spotify:track:42VUCXerQ5qTr4Qp6PhKo4   \n",
            "\n",
            "                                        artist_names       track_name  \\\n",
            "0  HUNTR/X, EJAE, AUDREY NUNA, REI AMI, KPop Demo...           Golden   \n",
            "1                                              sombr  back to friends   \n",
            "2                                        Alex Warren         Ordinary   \n",
            "3  Saja Boys, Andrew Choi, Neckwav, Danny Chung, ...         Soda Pop   \n",
            "4                                  Sabrina Carpenter            Tears   \n",
            "\n",
            "                source  peak_rank  previous_rank  weeks_on_chart   streams  \n",
            "0  K-Pop Demon Hunters          1              1              13  52790939  \n",
            "1       Warner Records          1              2              26  42212664  \n",
            "2     Atlantic Records          1              3              32  32139732  \n",
            "3  K-Pop Demon Hunters          4              5              13  27086657  \n",
            "4       Island Records          2              4               3  27002168  \n",
            "✅ Found 132 unique artists\n"
          ]
        }
      ]
    },
    {
      "cell_type": "code",
      "source": [
        "artist_data = []\n",
        "for artist_name in artists[:50]:\n",
        "    result = sp.search(q=f\"artist:{artist_name}\", type=\"artist\", limit=1)\n",
        "    if result['artists']['items']:\n",
        "        a = result['artists']['items'][0]\n",
        "        artist_data.append({\n",
        "            \"name\": a['name'],\n",
        "            \"id\": a['id'],\n",
        "            \"genres\": a['genres'],\n",
        "            \"popularity\": a['popularity']\n",
        "        })\n",
        "\n",
        "df_artists = pd.DataFrame(artist_data)\n",
        "print(df_artists.head())\n"
      ],
      "metadata": {
        "colab": {
          "base_uri": "https://localhost:8080/"
        },
        "id": "bI8Ul79gTXzb",
        "outputId": "ebb13609-d737-459b-b9a4-6e0cf29a3673"
      },
      "execution_count": null,
      "outputs": [
        {
          "output_type": "stream",
          "name": "stdout",
          "text": [
            "                name                      id      genres  popularity\n",
            "0              sombr  4G9NDjRyZFDlJKMRL8hx3S          []          90\n",
            "1        Alex Warren  0fTSzq9jAh4c36UVb4V7CB          []          89\n",
            "2  Sabrina Carpenter  74KM79TiuVKeVCqs8QtB0B       [pop]          97\n",
            "3     Artist Unknown  6gjAbs229sNHhSskJpQ2mG     [opera]          24\n",
            "4        Olivia Dean  00x1fYSGhdqScXBRpSj3DW  [pop soul]          86\n"
          ]
        }
      ]
    }
  ]
}